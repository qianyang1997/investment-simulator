{
 "cells": [
  {
   "cell_type": "markdown",
   "metadata": {},
   "source": [
    "# Sample notebook for usage\n",
    "\n",
    "This notebook shows a sample flow for running portfolio simluations."
   ]
  },
  {
   "cell_type": "code",
   "execution_count": 1,
   "metadata": {},
   "outputs": [],
   "source": [
    "from investment_simulator.simulator import InvestmentSimulator\n",
    "from investment_simulator.data_retriever import DataRetriever\n",
    "from investment_simulator import set_objective\n",
    "from investment_simulator import set_constraints"
   ]
  },
  {
   "cell_type": "code",
   "execution_count": 2,
   "metadata": {},
   "outputs": [],
   "source": [
    "# Set a list of tickers for analysis\n",
    "tickers = [\n",
    "    \"GLD\", # SPDR Gold Trust\n",
    "    \"DBC\", # Invesco DB Commodity Index Tracking Fund 5%\n",
    "    \"IVV\", # iShares Core S&P 500 ETF 10%\n",
    "    \"ACWI\", # iShares MSCI ACWI ETF 25%\n",
    "    \"JPST\", # JPMorgan Ultra-Short Income ETF 25%\n",
    "]"
   ]
  },
  {
   "cell_type": "code",
   "execution_count": null,
   "metadata": {},
   "outputs": [],
   "source": [
    "import os\n",
    "\n",
    "os.environ[\"ALPHA_VANTAGE_API_KEY\"] = \"\"  # TODO: add your own API key"
   ]
  },
  {
   "cell_type": "code",
   "execution_count": null,
   "metadata": {},
   "outputs": [],
   "source": [
    "# Optional: load latest snapshot of data from Alpha Vantage\n",
    "# Prior to running this, set the environment variable ALPHA_VANTAGE_API_KEY to your Alpha Vantage API key.\n",
    "data_retriever = DataRetriever()\n",
    "\n",
    "# first, get CPI and inflation data\n",
    "data_retriever.get_cpi_data()\n",
    "data_retriever.get_inflation_data()\n",
    "\n",
    "# then, get ETF / stock price data\n",
    "for ticker in tickers:\n",
    "    data_retriever.get_price_data(ticker)"
   ]
  },
  {
   "cell_type": "code",
   "execution_count": null,
   "metadata": {},
   "outputs": [],
   "source": [
    "sim = InvestmentSimulator(\n",
    "    tickers=tickers,\n",
    "    input_date=\"2017-01-01\",\n",
    "    output_date=\"2025-01-01\",\n",
    ")\n",
    "\n",
    "# Set the objective and constraints\n",
    "set_objective.maximize_ema_return(sim.data, sim.tickers, smoothing_window=100)\n",
    "set_constraints.keep_long_positions_only()\n",
    "set_constraints.cap_maximal_dod_loss_at_threshold(sim.data, sim.tickers, 0.1)\n",
    "set_constraints.cap_maximal_drawdown_at_threshold(sim.data, sim.tickers, 0.2)\n",
    "\n",
    "# Run optimization\n",
    "sim.optimize()\n",
    "\n",
    "# Generate report\n",
    "sim.generate_report()\n",
    "\n",
    "# Clear the optimizer\n",
    "sim.clear()\n",
    "\n",
    "# Examine the report\n",
    "sim.report"
   ]
  }
 ],
 "metadata": {
  "kernelspec": {
   "display_name": "investment_simulator",
   "language": "python",
   "name": "python3"
  },
  "language_info": {
   "codemirror_mode": {
    "name": "ipython",
    "version": 3
   },
   "file_extension": ".py",
   "mimetype": "text/x-python",
   "name": "python",
   "nbconvert_exporter": "python",
   "pygments_lexer": "ipython3",
   "version": "3.11.8"
  },
  "orig_nbformat": 4
 },
 "nbformat": 4,
 "nbformat_minor": 2
}
